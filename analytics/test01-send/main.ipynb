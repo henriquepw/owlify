{
 "cells": [
  {
   "cell_type": "code",
   "execution_count": 1,
   "metadata": {},
   "outputs": [],
   "source": [
    "import pandas as pd\n",
    "from matplotlib import pyplot as plt"
   ]
  },
  {
   "cell_type": "markdown",
   "metadata": {},
   "source": [
    "## TODO LIST\n",
    "\n",
    "- [X] Grafico pizza do `success`, para saber a porcentagem de pacotes recebidos com error\n",
    "- [ ] Grafico de linha para o SNR\n",
    "- [ ] Grafico de linha para o RSSI\n",
    "- [ ] Calcular a duração do teste pegando o time"
   ]
  },
  {
   "cell_type": "markdown",
   "metadata": {},
   "source": [
    "## Get datas"
   ]
  },
  {
   "cell_type": "code",
   "execution_count": 2,
   "metadata": {},
   "outputs": [],
   "source": [
    "packages = pd.read_json('packages.json')\n",
    "sensors = pd.read_json('sensors.json')"
   ]
  },
  {
   "cell_type": "markdown",
   "metadata": {},
   "source": [
    "#### Delete host column"
   ]
  },
  {
   "cell_type": "code",
   "execution_count": 3,
   "metadata": {},
   "outputs": [],
   "source": [
    "del packages['host']"
   ]
  },
  {
   "cell_type": "code",
   "execution_count": 4,
   "metadata": {},
   "outputs": [
    {
     "data": {
      "text/html": [
       "<div>\n",
       "<style scoped>\n",
       "    .dataframe tbody tr th:only-of-type {\n",
       "        vertical-align: middle;\n",
       "    }\n",
       "\n",
       "    .dataframe tbody tr th {\n",
       "        vertical-align: top;\n",
       "    }\n",
       "\n",
       "    .dataframe thead th {\n",
       "        text-align: right;\n",
       "    }\n",
       "</style>\n",
       "<table border=\"1\" class=\"dataframe\">\n",
       "  <thead>\n",
       "    <tr style=\"text-align: right;\">\n",
       "      <th></th>\n",
       "      <th>time</th>\n",
       "      <th>id</th>\n",
       "      <th>rssi</th>\n",
       "      <th>snr</th>\n",
       "      <th>success</th>\n",
       "    </tr>\n",
       "  </thead>\n",
       "  <tbody>\n",
       "    <tr>\n",
       "      <td>0</td>\n",
       "      <td>2019-10-23T13:29:53.413Z</td>\n",
       "      <td>0</td>\n",
       "      <td>-119</td>\n",
       "      <td>-12.00</td>\n",
       "      <td>False</td>\n",
       "    </tr>\n",
       "    <tr>\n",
       "      <td>1</td>\n",
       "      <td>2019-10-23T13:03:21.738Z</td>\n",
       "      <td>0</td>\n",
       "      <td>-118</td>\n",
       "      <td>-11.75</td>\n",
       "      <td>False</td>\n",
       "    </tr>\n",
       "    <tr>\n",
       "      <td>2</td>\n",
       "      <td>2019-10-23T11:03:30.714Z</td>\n",
       "      <td>0</td>\n",
       "      <td>-115</td>\n",
       "      <td>-11.75</td>\n",
       "      <td>False</td>\n",
       "    </tr>\n",
       "    <tr>\n",
       "      <td>3</td>\n",
       "      <td>2019-10-23T10:59:45.787Z</td>\n",
       "      <td>0</td>\n",
       "      <td>-115</td>\n",
       "      <td>-12.00</td>\n",
       "      <td>False</td>\n",
       "    </tr>\n",
       "    <tr>\n",
       "      <td>4</td>\n",
       "      <td>2019-10-23T10:52:51.842Z</td>\n",
       "      <td>0</td>\n",
       "      <td>-115</td>\n",
       "      <td>-11.75</td>\n",
       "      <td>False</td>\n",
       "    </tr>\n",
       "    <tr>\n",
       "      <td>...</td>\n",
       "      <td>...</td>\n",
       "      <td>...</td>\n",
       "      <td>...</td>\n",
       "      <td>...</td>\n",
       "      <td>...</td>\n",
       "    </tr>\n",
       "    <tr>\n",
       "      <td>410</td>\n",
       "      <td>2019-10-17T14:04:08.706Z</td>\n",
       "      <td>5</td>\n",
       "      <td>-113</td>\n",
       "      <td>-3.25</td>\n",
       "      <td>True</td>\n",
       "    </tr>\n",
       "    <tr>\n",
       "      <td>411</td>\n",
       "      <td>2019-10-17T13:59:08.333Z</td>\n",
       "      <td>4</td>\n",
       "      <td>-118</td>\n",
       "      <td>1.25</td>\n",
       "      <td>True</td>\n",
       "    </tr>\n",
       "    <tr>\n",
       "      <td>412</td>\n",
       "      <td>2019-10-17T13:54:08.107Z</td>\n",
       "      <td>3</td>\n",
       "      <td>-118</td>\n",
       "      <td>0.50</td>\n",
       "      <td>True</td>\n",
       "    </tr>\n",
       "    <tr>\n",
       "      <td>413</td>\n",
       "      <td>2019-10-17T13:49:07.880Z</td>\n",
       "      <td>2</td>\n",
       "      <td>-118</td>\n",
       "      <td>0.50</td>\n",
       "      <td>True</td>\n",
       "    </tr>\n",
       "    <tr>\n",
       "      <td>414</td>\n",
       "      <td>2019-10-17T13:44:07.633Z</td>\n",
       "      <td>1</td>\n",
       "      <td>-77</td>\n",
       "      <td>9.00</td>\n",
       "      <td>True</td>\n",
       "    </tr>\n",
       "  </tbody>\n",
       "</table>\n",
       "<p>415 rows × 5 columns</p>\n",
       "</div>"
      ],
      "text/plain": [
       "                         time  id  rssi    snr  success\n",
       "0    2019-10-23T13:29:53.413Z   0  -119 -12.00    False\n",
       "1    2019-10-23T13:03:21.738Z   0  -118 -11.75    False\n",
       "2    2019-10-23T11:03:30.714Z   0  -115 -11.75    False\n",
       "3    2019-10-23T10:59:45.787Z   0  -115 -12.00    False\n",
       "4    2019-10-23T10:52:51.842Z   0  -115 -11.75    False\n",
       "..                        ...  ..   ...    ...      ...\n",
       "410  2019-10-17T14:04:08.706Z   5  -113  -3.25     True\n",
       "411  2019-10-17T13:59:08.333Z   4  -118   1.25     True\n",
       "412  2019-10-17T13:54:08.107Z   3  -118   0.50     True\n",
       "413  2019-10-17T13:49:07.880Z   2  -118   0.50     True\n",
       "414  2019-10-17T13:44:07.633Z   1   -77   9.00     True\n",
       "\n",
       "[415 rows x 5 columns]"
      ]
     },
     "execution_count": 4,
     "metadata": {},
     "output_type": "execute_result"
    }
   ],
   "source": [
    "packages"
   ]
  },
  {
   "cell_type": "markdown",
   "metadata": {},
   "source": [
    "#### Plot a pie graph\n",
    "this graph represents the percent of packages transmission success."
   ]
  },
  {
   "cell_type": "code",
   "execution_count": 5,
   "metadata": {},
   "outputs": [
    {
     "data": {
      "image/png": "[encoded data removed]",
      "text/plain": [
       "<Figure size 360x360 with 1 Axes>"
      ]
     },
     "metadata": {},
     "output_type": "display_data"
    }
   ],
   "source": [
    "labels = ['Success', 'Error']\n",
    "values = packages['success'].value_counts()\n",
    "\n",
    "fig = plt.figure(figsize=(5, 5))\n",
    "plt.pie(values, labels=labels, autopct='%0.2f%%', explode=[0, 0.05])\n",
    "\n",
    "plt.title('Transmitted packets', fontsize=16)\n",
    "plt.show()"
   ]
  },
  {
   "cell_type": "code",
   "execution_count": null,
   "metadata": {},
   "outputs": [],
   "source": []
  }
 ],
 "metadata": {
  "kernelspec": {
   "display_name": "Python 3",
   "language": "python",
   "name": "python3"
  },
  "language_info": {
   "codemirror_mode": {
    "name": "ipython",
    "version": 3
   },
   "file_extension": ".py",
   "mimetype": "text/x-python",
   "name": "python",
   "nbconvert_exporter": "python",
   "pygments_lexer": "ipython3",
   "version": "3.7.4"
  }
 },
 "nbformat": 4,
 "nbformat_minor": 4
}
