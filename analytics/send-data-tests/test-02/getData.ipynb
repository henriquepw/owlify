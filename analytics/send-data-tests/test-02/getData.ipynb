{
 "cells": [
  {
   "cell_type": "code",
   "execution_count": 1,
   "metadata": {},
   "outputs": [],
   "source": [
    "import pandas as pd"
   ]
  },
  {
   "cell_type": "code",
   "execution_count": 2,
   "metadata": {},
   "outputs": [],
   "source": [
    "packagesData = pd.read_json('http://owlify-api.eastus2.cloudapp.azure.com/packages/6e2b60d8-b40e-4d93-94fa-5ae8da8bf549?limit=1000')\n",
    "\n",
    "sensorsData = pd.read_json('http://owlify-api.eastus2.cloudapp.azure.com/sensors/6e2b60d8-b40e-4d93-94fa-5ae8da8bf549?limit=1000')"
   ]
  },
  {
   "cell_type": "code",
   "execution_count": 3,
   "metadata": {},
   "outputs": [],
   "source": [
    "packagesData.to_json('packages-day-2.json')\n",
    "\n",
    "sensorsData.to_json('sensors-day-2.json')"
   ]
  },
  {
   "cell_type": "code",
   "execution_count": null,
   "metadata": {},
   "outputs": [],
   "source": []
  }
 ],
 "metadata": {
  "kernelspec": {
   "display_name": "Python 3",
   "language": "python",
   "name": "python3"
  },
  "language_info": {
   "codemirror_mode": {
    "name": "ipython",
    "version": 3
   },
   "file_extension": ".py",
   "mimetype": "text/x-python",
   "name": "python",
   "nbconvert_exporter": "python",
   "pygments_lexer": "ipython3",
   "version": "3.8.2-final"
  }
 },
 "nbformat": 4,
 "nbformat_minor": 4
}