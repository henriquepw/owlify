{
 "cells": [
  {
   "cell_type": "code",
   "execution_count": 1,
   "metadata": {},
   "outputs": [],
   "source": [
    "import matplotlib as mplot"
   ]
  },
  {
   "cell_type": "code",
   "execution_count": 2,
   "metadata": {},
   "outputs": [],
   "source": [
    "data = open('data.txt', 'r')"
   ]
  },
  {
   "cell_type": "code",
   "execution_count": 3,
   "metadata": {},
   "outputs": [],
   "source": [
    "l = data.read()"
   ]
  },
  {
   "cell_type": "code",
   "execution_count": 4,
   "metadata": {},
   "outputs": [
    {
     "name": "stdout",
     "output_type": "stream",
     "text": [
      "data: [{\"time\":\"2019-10-17T16:02:05.675Z\",\"host\":\"test01\",\"humidity\":56,\"temperature\":24.7},{\"time\":\"2019-10-17T16:01:59.156Z\",\"host\":\"test01\",\"humidity\":56.2,\"temperature\":25},{\"time\":\"2019-10-17T16:01:52.700Z\",\"host\":\"test01\",\"humidity\":56.1,\"temperature\":24.8},{\"time\":\"2019-10-17T16:01:44.596Z\",\"host\":\"test01\",\"humidity\":56.1,\"temperature\":24.8},{\"time\":\"2019-10-17T16:01:38.059Z\",\"host\":\"test01\",\"humidity\":56.1,\"temperature\":24.8},{\"time\":\"2019-10-17T16:01:31.534Z\",\"host\":\"test01\",\"humidity\":56.1,\"temperature\":24.8},{\"time\":\"2019-10-17T16:01:25.033Z\",\"host\":\"test01\",\"humidity\":56.2,\"temperature\":24.8},{\"time\":\"2019-10-17T16:01:18.481Z\",\"host\":\"test01\",\"humidity\":54.9,\"temperature\":26.8},{\"time\":\"2019-10-17T16:01:11.954Z\",\"host\":\"test01\",\"humidity\":55,\"temperature\":26.8},{\"time\":\"2019-10-17T16:01:05.437Z\",\"host\":\"test01\",\"humidity\":55,\"temperature\":26.8},{\"time\":\"2019-10-17T16:00:58.916Z\",\"host\":\"test01\",\"humidity\":55,\"temperature\":26.8},{\"time\":\"2019-10-17T16:00:52.397Z\",\"host\":\"test01\",\"humidity\":54.9,\"temperature\":26.8},{\"time\":\"2019-10-17T16:00:45.855Z\",\"host\":\"test01\",\"humidity\":54.9,\"temperature\":26.8},{\"time\":\"2019-10-17T16:00:39.425Z\",\"host\":\"test01\",\"humidity\":54.9,\"temperature\":26.8},{\"time\":\"2019-10-17T16:00:32.802Z\",\"host\":\"test01\",\"humidity\":54.9,\"temperature\":26.8},{\"time\":\"2019-10-17T16:00:26.276Z\",\"host\":\"test01\",\"humidity\":54.8,\"temperature\":26.8},{\"time\":\"2019-10-17T16:00:19.774Z\",\"host\":\"test01\",\"humidity\":54.9,\"temperature\":26.8},{\"time\":\"2019-10-17T16:00:13.234Z\",\"host\":\"test01\",\"humidity\":54.9,\"temperature\":26.8},{\"time\":\"2019-10-17T16:00:06.706Z\",\"host\":\"test01\",\"humidity\":54.9,\"temperature\":26.8},{\"time\":\"2019-10-17T16:00:00.185Z\",\"host\":\"test01\",\"humidity\":58.3,\"temperature\":28.3},{\"time\":\"2019-10-17T15:59:53.674Z\",\"host\":\"test01\",\"humidity\":58.2,\"temperature\":28.2},{\"time\":\"2019-10-17T15:59:47.156Z\",\"host\":\"test01\",\"humidity\":57.8,\"temperature\":27.7},{\"time\":\"2019-10-17T15:59:34.122Z\",\"host\":\"test01\",\"humidity\":56.5,\"temperature\":26.8},{\"time\":\"2019-10-17T15:59:27.627Z\",\"host\":\"test01\",\"humidity\":56.3,\"temperature\":26.8},{\"time\":\"2019-10-17T15:59:21.124Z\",\"host\":\"test01\",\"humidity\":56.4,\"temperature\":26.8},{\"time\":\"2019-10-17T15:59:14.605Z\",\"host\":\"test01\",\"humidity\":56.5,\"temperature\":26.8},{\"time\":\"2019-10-17T15:54:14.289Z\",\"host\":\"test01\",\"humidity\":56.4,\"temperature\":26.8},{\"time\":\"2019-10-17T15:49:13.992Z\",\"host\":\"test01\",\"humidity\":56.5,\"temperature\":26.8},{\"time\":\"2019-10-17T15:44:14.029Z\",\"host\":\"test01\",\"humidity\":56.6,\"temperature\":26.8},{\"time\":\"2019-10-17T15:39:13.392Z\",\"host\":\"test01\",\"humidity\":57.2,\"temperature\":26.6},{\"time\":\"2019-10-17T15:34:13.107Z\",\"host\":\"test01\",\"humidity\":57.2,\"temperature\":26.6},{\"time\":\"2019-10-17T15:29:12.862Z\",\"host\":\"test01\",\"humidity\":57.2,\"temperature\":26.6},{\"time\":\"2019-10-17T15:24:12.608Z\",\"host\":\"test01\",\"humidity\":57.2,\"temperature\":26.6},{\"time\":\"2019-10-17T15:19:12.447Z\",\"host\":\"test01\",\"humidity\":57.2,\"temperature\":26.6},{\"time\":\"2019-10-17T15:14:12.099Z\",\"host\":\"test01\",\"humidity\":57.1,\"temperature\":26.6},{\"time\":\"2019-10-17T15:09:11.851Z\",\"host\":\"test01\",\"humidity\":57.1,\"temperature\":26.5},{\"time\":\"2019-10-17T15:04:11.928Z\",\"host\":\"test01\",\"humidity\":58.3,\"temperature\":26.5},{\"time\":\"2019-10-17T14:59:11.347Z\",\"host\":\"test01\",\"humidity\":57.8,\"temperature\":26.5},{\"time\":\"2019-10-17T14:54:11.094Z\",\"host\":\"test01\",\"humidity\":57.8,\"temperature\":26.5},{\"time\":\"2019-10-17T14:49:10.859Z\",\"host\":\"test01\",\"humidity\":58.5,\"temperature\":26.4},{\"time\":\"2019-10-17T14:44:10.602Z\",\"host\":\"test01\",\"humidity\":59.1,\"temperature\":26.4},{\"time\":\"2019-10-17T14:39:10.346Z\",\"host\":\"test01\",\"humidity\":58.7,\"temperature\":26.4},{\"time\":\"2019-10-17T14:34:10.144Z\",\"host\":\"test01\",\"humidity\":58.7,\"temperature\":26.4},{\"time\":\"2019-10-17T14:29:09.850Z\",\"host\":\"test01\",\"humidity\":59.3,\"temperature\":26.4},{\"time\":\"2019-10-17T14:24:09.601Z\",\"host\":\"test01\",\"humidity\":60,\"temperature\":26.3},{\"time\":\"2019-10-17T14:19:09.343Z\",\"host\":\"test01\",\"humidity\":60,\"temperature\":26.3},{\"time\":\"2019-10-17T14:14:09.153Z\",\"host\":\"test01\",\"humidity\":59.7,\"temperature\":26.3},{\"time\":\"2019-10-17T14:09:10.160Z\",\"host\":\"test01\",\"humidity\":59.9,\"temperature\":26.3},{\"time\":\"2019-10-17T14:04:08.706Z\",\"host\":\"test01\",\"humidity\":60.5,\"temperature\":26.2},{\"time\":\"2019-10-17T13:59:08.333Z\",\"host\":\"test01\",\"humidity\":60.5,\"temperature\":26.1}]\n",
      "\n",
      "\n"
     ]
    }
   ],
   "source": [
    "print(l)"
   ]
  },
  {
   "cell_type": "code",
   "execution_count": 5,
   "metadata": {},
   "outputs": [],
   "source": [
    "aux = []\n",
    "s = ''\n",
    "ok = False\n",
    "c = 0\n",
    "for i in l:\n",
    "    if i == '{':\n",
    "        aux.append([])\n",
    "        ok = True\n",
    "    if ok == True:\n",
    "        s += i\n",
    "    if i == '}':\n",
    "        ok = False\n",
    "        aux[c].append(s)\n",
    "        s = ''\n",
    "        c += 1"
   ]
  },
  {
   "cell_type": "code",
   "execution_count": 6,
   "metadata": {},
   "outputs": [
    {
     "name": "stdout",
     "output_type": "stream",
     "text": [
      "['{\"time\":\"2019-10-17T16:02:05.675Z\",\"host\":\"test01\",\"humidity\":56,\"temperature\":24.7}']\n",
      "['{\"time\":\"2019-10-17T16:01:59.156Z\",\"host\":\"test01\",\"humidity\":56.2,\"temperature\":25}']\n",
      "['{\"time\":\"2019-10-17T16:01:52.700Z\",\"host\":\"test01\",\"humidity\":56.1,\"temperature\":24.8}']\n",
      "['{\"time\":\"2019-10-17T16:01:44.596Z\",\"host\":\"test01\",\"humidity\":56.1,\"temperature\":24.8}']\n",
      "['{\"time\":\"2019-10-17T16:01:38.059Z\",\"host\":\"test01\",\"humidity\":56.1,\"temperature\":24.8}']\n",
      "['{\"time\":\"2019-10-17T16:01:31.534Z\",\"host\":\"test01\",\"humidity\":56.1,\"temperature\":24.8}']\n",
      "['{\"time\":\"2019-10-17T16:01:25.033Z\",\"host\":\"test01\",\"humidity\":56.2,\"temperature\":24.8}']\n",
      "['{\"time\":\"2019-10-17T16:01:18.481Z\",\"host\":\"test01\",\"humidity\":54.9,\"temperature\":26.8}']\n",
      "['{\"time\":\"2019-10-17T16:01:11.954Z\",\"host\":\"test01\",\"humidity\":55,\"temperature\":26.8}']\n",
      "['{\"time\":\"2019-10-17T16:01:05.437Z\",\"host\":\"test01\",\"humidity\":55,\"temperature\":26.8}']\n",
      "['{\"time\":\"2019-10-17T16:00:58.916Z\",\"host\":\"test01\",\"humidity\":55,\"temperature\":26.8}']\n",
      "['{\"time\":\"2019-10-17T16:00:52.397Z\",\"host\":\"test01\",\"humidity\":54.9,\"temperature\":26.8}']\n",
      "['{\"time\":\"2019-10-17T16:00:45.855Z\",\"host\":\"test01\",\"humidity\":54.9,\"temperature\":26.8}']\n",
      "['{\"time\":\"2019-10-17T16:00:39.425Z\",\"host\":\"test01\",\"humidity\":54.9,\"temperature\":26.8}']\n",
      "['{\"time\":\"2019-10-17T16:00:32.802Z\",\"host\":\"test01\",\"humidity\":54.9,\"temperature\":26.8}']\n",
      "['{\"time\":\"2019-10-17T16:00:26.276Z\",\"host\":\"test01\",\"humidity\":54.8,\"temperature\":26.8}']\n",
      "['{\"time\":\"2019-10-17T16:00:19.774Z\",\"host\":\"test01\",\"humidity\":54.9,\"temperature\":26.8}']\n",
      "['{\"time\":\"2019-10-17T16:00:13.234Z\",\"host\":\"test01\",\"humidity\":54.9,\"temperature\":26.8}']\n",
      "['{\"time\":\"2019-10-17T16:00:06.706Z\",\"host\":\"test01\",\"humidity\":54.9,\"temperature\":26.8}']\n",
      "['{\"time\":\"2019-10-17T16:00:00.185Z\",\"host\":\"test01\",\"humidity\":58.3,\"temperature\":28.3}']\n",
      "['{\"time\":\"2019-10-17T15:59:53.674Z\",\"host\":\"test01\",\"humidity\":58.2,\"temperature\":28.2}']\n",
      "['{\"time\":\"2019-10-17T15:59:47.156Z\",\"host\":\"test01\",\"humidity\":57.8,\"temperature\":27.7}']\n",
      "['{\"time\":\"2019-10-17T15:59:34.122Z\",\"host\":\"test01\",\"humidity\":56.5,\"temperature\":26.8}']\n",
      "['{\"time\":\"2019-10-17T15:59:27.627Z\",\"host\":\"test01\",\"humidity\":56.3,\"temperature\":26.8}']\n",
      "['{\"time\":\"2019-10-17T15:59:21.124Z\",\"host\":\"test01\",\"humidity\":56.4,\"temperature\":26.8}']\n",
      "['{\"time\":\"2019-10-17T15:59:14.605Z\",\"host\":\"test01\",\"humidity\":56.5,\"temperature\":26.8}']\n",
      "['{\"time\":\"2019-10-17T15:54:14.289Z\",\"host\":\"test01\",\"humidity\":56.4,\"temperature\":26.8}']\n",
      "['{\"time\":\"2019-10-17T15:49:13.992Z\",\"host\":\"test01\",\"humidity\":56.5,\"temperature\":26.8}']\n",
      "['{\"time\":\"2019-10-17T15:44:14.029Z\",\"host\":\"test01\",\"humidity\":56.6,\"temperature\":26.8}']\n",
      "['{\"time\":\"2019-10-17T15:39:13.392Z\",\"host\":\"test01\",\"humidity\":57.2,\"temperature\":26.6}']\n",
      "['{\"time\":\"2019-10-17T15:34:13.107Z\",\"host\":\"test01\",\"humidity\":57.2,\"temperature\":26.6}']\n",
      "['{\"time\":\"2019-10-17T15:29:12.862Z\",\"host\":\"test01\",\"humidity\":57.2,\"temperature\":26.6}']\n",
      "['{\"time\":\"2019-10-17T15:24:12.608Z\",\"host\":\"test01\",\"humidity\":57.2,\"temperature\":26.6}']\n",
      "['{\"time\":\"2019-10-17T15:19:12.447Z\",\"host\":\"test01\",\"humidity\":57.2,\"temperature\":26.6}']\n",
      "['{\"time\":\"2019-10-17T15:14:12.099Z\",\"host\":\"test01\",\"humidity\":57.1,\"temperature\":26.6}']\n",
      "['{\"time\":\"2019-10-17T15:09:11.851Z\",\"host\":\"test01\",\"humidity\":57.1,\"temperature\":26.5}']\n",
      "['{\"time\":\"2019-10-17T15:04:11.928Z\",\"host\":\"test01\",\"humidity\":58.3,\"temperature\":26.5}']\n",
      "['{\"time\":\"2019-10-17T14:59:11.347Z\",\"host\":\"test01\",\"humidity\":57.8,\"temperature\":26.5}']\n",
      "['{\"time\":\"2019-10-17T14:54:11.094Z\",\"host\":\"test01\",\"humidity\":57.8,\"temperature\":26.5}']\n",
      "['{\"time\":\"2019-10-17T14:49:10.859Z\",\"host\":\"test01\",\"humidity\":58.5,\"temperature\":26.4}']\n",
      "['{\"time\":\"2019-10-17T14:44:10.602Z\",\"host\":\"test01\",\"humidity\":59.1,\"temperature\":26.4}']\n",
      "['{\"time\":\"2019-10-17T14:39:10.346Z\",\"host\":\"test01\",\"humidity\":58.7,\"temperature\":26.4}']\n",
      "['{\"time\":\"2019-10-17T14:34:10.144Z\",\"host\":\"test01\",\"humidity\":58.7,\"temperature\":26.4}']\n",
      "['{\"time\":\"2019-10-17T14:29:09.850Z\",\"host\":\"test01\",\"humidity\":59.3,\"temperature\":26.4}']\n",
      "['{\"time\":\"2019-10-17T14:24:09.601Z\",\"host\":\"test01\",\"humidity\":60,\"temperature\":26.3}']\n",
      "['{\"time\":\"2019-10-17T14:19:09.343Z\",\"host\":\"test01\",\"humidity\":60,\"temperature\":26.3}']\n",
      "['{\"time\":\"2019-10-17T14:14:09.153Z\",\"host\":\"test01\",\"humidity\":59.7,\"temperature\":26.3}']\n",
      "['{\"time\":\"2019-10-17T14:09:10.160Z\",\"host\":\"test01\",\"humidity\":59.9,\"temperature\":26.3}']\n",
      "['{\"time\":\"2019-10-17T14:04:08.706Z\",\"host\":\"test01\",\"humidity\":60.5,\"temperature\":26.2}']\n",
      "['{\"time\":\"2019-10-17T13:59:08.333Z\",\"host\":\"test01\",\"humidity\":60.5,\"temperature\":26.1}']\n"
     ]
    }
   ],
   "source": [
    "for i in range(len(aux)):\n",
    "    print(aux[i])"
   ]
  },
  {
   "cell_type": "code",
   "execution_count": 15,
   "metadata": {},
   "outputs": [],
   "source": [
    "gate = open('gate.txt', 'r')"
   ]
  },
  {
   "cell_type": "code",
   "execution_count": 16,
   "metadata": {},
   "outputs": [],
   "source": [
    "lista = gate.read()"
   ]
  },
  {
   "cell_type": "code",
   "execution_count": 18,
   "metadata": {},
   "outputs": [
    {
     "name": "stdout",
     "output_type": "stream",
     "text": [
      "gate: [{\"time\":\"2019-10-18T09:06:54.539Z\",\"host\":\"test01\",\"id\":0,\"rssi\":-120,\"snr\":-11.5,\"success\":false},{\"time\":\"2019-10-18T08:43:26.378Z\",\"host\":\"test01\",\"id\":0,\"rssi\":-121,\"snr\":-12.5,\"success\":false},{\"time\":\"2019-10-18T08:07:00.365Z\",\"host\":\"test01\",\"id\":0,\"rssi\":-120,\"snr\":-11.5,\"success\":false},{\"time\":\"2019-10-18T06:23:19.898Z\",\"host\":\"test01\",\"id\":0,\"rssi\":-120,\"snr\":-11.75,\"success\":false},{\"time\":\"2019-10-18T05:44:43.720Z\",\"host\":\"test01\",\"id\":0,\"rssi\":-121,\"snr\":-12.5,\"success\":false},{\"time\":\"2019-10-18T05:22:07.845Z\",\"host\":\"test01\",\"id\":0,\"rssi\":-121,\"snr\":-12,\"success\":false},{\"time\":\"2019-10-18T02:39:15.608Z\",\"host\":\"test01\",\"id\":0,\"rssi\":-121,\"snr\":-11.75,\"success\":false},{\"time\":\"2019-10-18T02:25:03.647Z\",\"host\":\"test01\",\"id\":0,\"rssi\":-121,\"snr\":-11.75,\"success\":false},{\"time\":\"2019-10-18T01:02:14.081Z\",\"host\":\"test01\",\"id\":0,\"rssi\":-120,\"snr\":-12,\"success\":false},{\"time\":\"2019-10-18T00:09:59.363Z\",\"host\":\"test01\",\"id\":0,\"rssi\":-120,\"snr\":-11.75,\"success\":false},{\"time\":\"2019-10-17T22:42:16.561Z\",\"host\":\"test01\",\"id\":0,\"rssi\":-120,\"snr\":-11.75,\"success\":false},{\"time\":\"2019-10-17T22:37:17.228Z\",\"host\":\"test01\",\"id\":0,\"rssi\":-120,\"snr\":-12.25,\"success\":false},{\"time\":\"2019-10-17T20:51:14.749Z\",\"host\":\"test01\",\"id\":0,\"rssi\":-120,\"snr\":-12,\"success\":false},{\"time\":\"2019-10-17T17:17:56.595Z\",\"host\":\"test01\",\"id\":0,\"rssi\":-121,\"snr\":-12,\"success\":false},{\"time\":\"2019-10-17T16:02:05.675Z\",\"host\":\"test01\",\"id\":1,\"rssi\":-117,\"snr\":3,\"success\":true},{\"time\":\"2019-10-17T16:01:59.156Z\",\"host\":\"test01\",\"id\":1,\"rssi\":-117,\"snr\":2.75,\"success\":true},{\"time\":\"2019-10-17T16:01:52.700Z\",\"host\":\"test01\",\"id\":1,\"rssi\":-117,\"snr\":2.75,\"success\":true},{\"time\":\"2019-10-17T16:01:44.596Z\",\"host\":\"test01\",\"id\":1,\"rssi\":-116,\"snr\":3.25,\"success\":true},{\"time\":\"2019-10-17T16:01:38.059Z\",\"host\":\"test01\",\"id\":1,\"rssi\":-117,\"snr\":3,\"success\":true},{\"time\":\"2019-10-17T16:01:31.534Z\",\"host\":\"test01\",\"id\":1,\"rssi\":-115,\"snr\":3,\"success\":true},{\"time\":\"2019-10-17T16:01:25.033Z\",\"host\":\"test01\",\"id\":1,\"rssi\":-117,\"snr\":1.25,\"success\":true},{\"time\":\"2019-10-17T16:01:18.481Z\",\"host\":\"test01\",\"id\":1,\"rssi\":-117,\"snr\":2.5,\"success\":true},{\"time\":\"2019-10-17T16:01:11.954Z\",\"host\":\"test01\",\"id\":1,\"rssi\":-116,\"snr\":3.25,\"success\":true},{\"time\":\"2019-10-17T16:01:05.437Z\",\"host\":\"test01\",\"id\":1,\"rssi\":-117,\"snr\":3,\"success\":true},{\"time\":\"2019-10-17T16:00:58.916Z\",\"host\":\"test01\",\"id\":1,\"rssi\":-116,\"snr\":2.75,\"success\":true},{\"time\":\"2019-10-17T16:00:52.397Z\",\"host\":\"test01\",\"id\":1,\"rssi\":-116,\"snr\":3.25,\"success\":true},{\"time\":\"2019-10-17T16:00:45.855Z\",\"host\":\"test01\",\"id\":1,\"rssi\":-118,\"snr\":0.75,\"success\":true},{\"time\":\"2019-10-17T16:00:39.425Z\",\"host\":\"test01\",\"id\":1,\"rssi\":-117,\"snr\":2.5,\"success\":true},{\"time\":\"2019-10-17T16:00:32.802Z\",\"host\":\"test01\",\"id\":1,\"rssi\":-117,\"snr\":2.5,\"success\":true},{\"time\":\"2019-10-17T16:00:26.276Z\",\"host\":\"test01\",\"id\":1,\"rssi\":-117,\"snr\":2.25,\"success\":true},{\"time\":\"2019-10-17T16:00:19.774Z\",\"host\":\"test01\",\"id\":1,\"rssi\":-117,\"snr\":1.75,\"success\":true},{\"time\":\"2019-10-17T16:00:13.234Z\",\"host\":\"test01\",\"id\":1,\"rssi\":-117,\"snr\":3,\"success\":true},{\"time\":\"2019-10-17T16:00:06.706Z\",\"host\":\"test01\",\"id\":1,\"rssi\":-116,\"snr\":3.25,\"success\":true},{\"time\":\"2019-10-17T16:00:00.185Z\",\"host\":\"test01\",\"id\":1,\"rssi\":-116,\"snr\":3,\"success\":true},{\"time\":\"2019-10-17T15:59:53.674Z\",\"host\":\"test01\",\"id\":1,\"rssi\":-117,\"snr\":3.25,\"success\":true},{\"time\":\"2019-10-17T15:59:47.156Z\",\"host\":\"test01\",\"id\":1,\"rssi\":-116,\"snr\":3.5,\"success\":true},{\"time\":\"2019-10-17T15:59:40.626Z\",\"host\":\"test01\",\"id\":1,\"rssi\":-114,\"snr\":1.75,\"success\":false},{\"time\":\"2019-10-17T15:59:34.122Z\",\"host\":\"test01\",\"id\":1,\"rssi\":-116,\"snr\":4.25,\"success\":true},{\"time\":\"2019-10-17T15:59:27.627Z\",\"host\":\"test01\",\"id\":1,\"rssi\":-115,\"snr\":4,\"success\":true},{\"time\":\"2019-10-17T15:59:21.124Z\",\"host\":\"test01\",\"id\":1,\"rssi\":-115,\"snr\":5,\"success\":true},{\"time\":\"2019-10-17T15:59:14.605Z\",\"host\":\"test01\",\"id\":28,\"rssi\":-115,\"snr\":4,\"success\":true},{\"time\":\"2019-10-17T15:54:14.289Z\",\"host\":\"test01\",\"id\":27,\"rssi\":-116,\"snr\":2.25,\"success\":true},{\"time\":\"2019-10-17T15:49:13.992Z\",\"host\":\"test01\",\"id\":26,\"rssi\":-115,\"snr\":4,\"success\":true},{\"time\":\"2019-10-17T15:44:14.029Z\",\"host\":\"test01\",\"id\":25,\"rssi\":-116,\"snr\":1.75,\"success\":true},{\"time\":\"2019-10-17T15:39:13.392Z\",\"host\":\"test01\",\"id\":24,\"rssi\":-117,\"snr\":1.75,\"success\":true},{\"time\":\"2019-10-17T15:34:13.107Z\",\"host\":\"test01\",\"id\":23,\"rssi\":-116,\"snr\":2.5,\"success\":true},{\"time\":\"2019-10-17T15:29:12.862Z\",\"host\":\"test01\",\"id\":22,\"rssi\":-115,\"snr\":2.75,\"success\":true},{\"time\":\"2019-10-17T15:24:12.608Z\",\"host\":\"test01\",\"id\":21,\"rssi\":-115,\"snr\":3.25,\"success\":true},{\"time\":\"2019-10-17T15:19:12.447Z\",\"host\":\"test01\",\"id\":20,\"rssi\":-117,\"snr\":-0.25,\"success\":true},{\"time\":\"2019-10-17T15:14:12.099Z\",\"host\":\"test01\",\"id\":19,\"rssi\":-113,\"snr\":3,\"success\":true}]\n"
     ]
    }
   ],
   "source": [
    "print(lista)"
   ]
  },
  {
   "cell_type": "code",
   "execution_count": 24,
   "metadata": {},
   "outputs": [],
   "source": [
    "aux2 = []\n",
    "s = ''\n",
    "ok = False\n",
    "c = 0\n",
    "for i in lista:\n",
    "    if i == '{':\n",
    "        aux2.append([])\n",
    "        ok = True\n",
    "    if ok == True:\n",
    "        s += i\n",
    "    if i == '}':\n",
    "        ok = False\n",
    "        aux2[c].append(s)\n",
    "        s = ''\n",
    "        c += 1"
   ]
  },
  {
   "cell_type": "code",
   "execution_count": 25,
   "metadata": {},
   "outputs": [
    {
     "name": "stdout",
     "output_type": "stream",
     "text": [
      "['{\"time\":\"2019-10-18T09:06:54.539Z\",\"host\":\"test01\",\"id\":0,\"rssi\":-120,\"snr\":-11.5,\"success\":false}']\n",
      "['{\"time\":\"2019-10-18T08:43:26.378Z\",\"host\":\"test01\",\"id\":0,\"rssi\":-121,\"snr\":-12.5,\"success\":false}']\n",
      "['{\"time\":\"2019-10-18T08:07:00.365Z\",\"host\":\"test01\",\"id\":0,\"rssi\":-120,\"snr\":-11.5,\"success\":false}']\n",
      "['{\"time\":\"2019-10-18T06:23:19.898Z\",\"host\":\"test01\",\"id\":0,\"rssi\":-120,\"snr\":-11.75,\"success\":false}']\n",
      "['{\"time\":\"2019-10-18T05:44:43.720Z\",\"host\":\"test01\",\"id\":0,\"rssi\":-121,\"snr\":-12.5,\"success\":false}']\n",
      "['{\"time\":\"2019-10-18T05:22:07.845Z\",\"host\":\"test01\",\"id\":0,\"rssi\":-121,\"snr\":-12,\"success\":false}']\n",
      "['{\"time\":\"2019-10-18T02:39:15.608Z\",\"host\":\"test01\",\"id\":0,\"rssi\":-121,\"snr\":-11.75,\"success\":false}']\n",
      "['{\"time\":\"2019-10-18T02:25:03.647Z\",\"host\":\"test01\",\"id\":0,\"rssi\":-121,\"snr\":-11.75,\"success\":false}']\n",
      "['{\"time\":\"2019-10-18T01:02:14.081Z\",\"host\":\"test01\",\"id\":0,\"rssi\":-120,\"snr\":-12,\"success\":false}']\n",
      "['{\"time\":\"2019-10-18T00:09:59.363Z\",\"host\":\"test01\",\"id\":0,\"rssi\":-120,\"snr\":-11.75,\"success\":false}']\n",
      "['{\"time\":\"2019-10-17T22:42:16.561Z\",\"host\":\"test01\",\"id\":0,\"rssi\":-120,\"snr\":-11.75,\"success\":false}']\n",
      "['{\"time\":\"2019-10-17T22:37:17.228Z\",\"host\":\"test01\",\"id\":0,\"rssi\":-120,\"snr\":-12.25,\"success\":false}']\n",
      "['{\"time\":\"2019-10-17T20:51:14.749Z\",\"host\":\"test01\",\"id\":0,\"rssi\":-120,\"snr\":-12,\"success\":false}']\n",
      "['{\"time\":\"2019-10-17T17:17:56.595Z\",\"host\":\"test01\",\"id\":0,\"rssi\":-121,\"snr\":-12,\"success\":false}']\n",
      "['{\"time\":\"2019-10-17T16:02:05.675Z\",\"host\":\"test01\",\"id\":1,\"rssi\":-117,\"snr\":3,\"success\":true}']\n",
      "['{\"time\":\"2019-10-17T16:01:59.156Z\",\"host\":\"test01\",\"id\":1,\"rssi\":-117,\"snr\":2.75,\"success\":true}']\n",
      "['{\"time\":\"2019-10-17T16:01:52.700Z\",\"host\":\"test01\",\"id\":1,\"rssi\":-117,\"snr\":2.75,\"success\":true}']\n",
      "['{\"time\":\"2019-10-17T16:01:44.596Z\",\"host\":\"test01\",\"id\":1,\"rssi\":-116,\"snr\":3.25,\"success\":true}']\n",
      "['{\"time\":\"2019-10-17T16:01:38.059Z\",\"host\":\"test01\",\"id\":1,\"rssi\":-117,\"snr\":3,\"success\":true}']\n",
      "['{\"time\":\"2019-10-17T16:01:31.534Z\",\"host\":\"test01\",\"id\":1,\"rssi\":-115,\"snr\":3,\"success\":true}']\n",
      "['{\"time\":\"2019-10-17T16:01:25.033Z\",\"host\":\"test01\",\"id\":1,\"rssi\":-117,\"snr\":1.25,\"success\":true}']\n",
      "['{\"time\":\"2019-10-17T16:01:18.481Z\",\"host\":\"test01\",\"id\":1,\"rssi\":-117,\"snr\":2.5,\"success\":true}']\n",
      "['{\"time\":\"2019-10-17T16:01:11.954Z\",\"host\":\"test01\",\"id\":1,\"rssi\":-116,\"snr\":3.25,\"success\":true}']\n",
      "['{\"time\":\"2019-10-17T16:01:05.437Z\",\"host\":\"test01\",\"id\":1,\"rssi\":-117,\"snr\":3,\"success\":true}']\n",
      "['{\"time\":\"2019-10-17T16:00:58.916Z\",\"host\":\"test01\",\"id\":1,\"rssi\":-116,\"snr\":2.75,\"success\":true}']\n",
      "['{\"time\":\"2019-10-17T16:00:52.397Z\",\"host\":\"test01\",\"id\":1,\"rssi\":-116,\"snr\":3.25,\"success\":true}']\n",
      "['{\"time\":\"2019-10-17T16:00:45.855Z\",\"host\":\"test01\",\"id\":1,\"rssi\":-118,\"snr\":0.75,\"success\":true}']\n",
      "['{\"time\":\"2019-10-17T16:00:39.425Z\",\"host\":\"test01\",\"id\":1,\"rssi\":-117,\"snr\":2.5,\"success\":true}']\n",
      "['{\"time\":\"2019-10-17T16:00:32.802Z\",\"host\":\"test01\",\"id\":1,\"rssi\":-117,\"snr\":2.5,\"success\":true}']\n",
      "['{\"time\":\"2019-10-17T16:00:26.276Z\",\"host\":\"test01\",\"id\":1,\"rssi\":-117,\"snr\":2.25,\"success\":true}']\n",
      "['{\"time\":\"2019-10-17T16:00:19.774Z\",\"host\":\"test01\",\"id\":1,\"rssi\":-117,\"snr\":1.75,\"success\":true}']\n",
      "['{\"time\":\"2019-10-17T16:00:13.234Z\",\"host\":\"test01\",\"id\":1,\"rssi\":-117,\"snr\":3,\"success\":true}']\n",
      "['{\"time\":\"2019-10-17T16:00:06.706Z\",\"host\":\"test01\",\"id\":1,\"rssi\":-116,\"snr\":3.25,\"success\":true}']\n",
      "['{\"time\":\"2019-10-17T16:00:00.185Z\",\"host\":\"test01\",\"id\":1,\"rssi\":-116,\"snr\":3,\"success\":true}']\n",
      "['{\"time\":\"2019-10-17T15:59:53.674Z\",\"host\":\"test01\",\"id\":1,\"rssi\":-117,\"snr\":3.25,\"success\":true}']\n",
      "['{\"time\":\"2019-10-17T15:59:47.156Z\",\"host\":\"test01\",\"id\":1,\"rssi\":-116,\"snr\":3.5,\"success\":true}']\n",
      "['{\"time\":\"2019-10-17T15:59:40.626Z\",\"host\":\"test01\",\"id\":1,\"rssi\":-114,\"snr\":1.75,\"success\":false}']\n",
      "['{\"time\":\"2019-10-17T15:59:34.122Z\",\"host\":\"test01\",\"id\":1,\"rssi\":-116,\"snr\":4.25,\"success\":true}']\n",
      "['{\"time\":\"2019-10-17T15:59:27.627Z\",\"host\":\"test01\",\"id\":1,\"rssi\":-115,\"snr\":4,\"success\":true}']\n",
      "['{\"time\":\"2019-10-17T15:59:21.124Z\",\"host\":\"test01\",\"id\":1,\"rssi\":-115,\"snr\":5,\"success\":true}']\n",
      "['{\"time\":\"2019-10-17T15:59:14.605Z\",\"host\":\"test01\",\"id\":28,\"rssi\":-115,\"snr\":4,\"success\":true}']\n",
      "['{\"time\":\"2019-10-17T15:54:14.289Z\",\"host\":\"test01\",\"id\":27,\"rssi\":-116,\"snr\":2.25,\"success\":true}']\n",
      "['{\"time\":\"2019-10-17T15:49:13.992Z\",\"host\":\"test01\",\"id\":26,\"rssi\":-115,\"snr\":4,\"success\":true}']\n",
      "['{\"time\":\"2019-10-17T15:44:14.029Z\",\"host\":\"test01\",\"id\":25,\"rssi\":-116,\"snr\":1.75,\"success\":true}']\n",
      "['{\"time\":\"2019-10-17T15:39:13.392Z\",\"host\":\"test01\",\"id\":24,\"rssi\":-117,\"snr\":1.75,\"success\":true}']\n",
      "['{\"time\":\"2019-10-17T15:34:13.107Z\",\"host\":\"test01\",\"id\":23,\"rssi\":-116,\"snr\":2.5,\"success\":true}']\n",
      "['{\"time\":\"2019-10-17T15:29:12.862Z\",\"host\":\"test01\",\"id\":22,\"rssi\":-115,\"snr\":2.75,\"success\":true}']\n",
      "['{\"time\":\"2019-10-17T15:24:12.608Z\",\"host\":\"test01\",\"id\":21,\"rssi\":-115,\"snr\":3.25,\"success\":true}']\n",
      "['{\"time\":\"2019-10-17T15:19:12.447Z\",\"host\":\"test01\",\"id\":20,\"rssi\":-117,\"snr\":-0.25,\"success\":true}']\n",
      "['{\"time\":\"2019-10-17T15:14:12.099Z\",\"host\":\"test01\",\"id\":19,\"rssi\":-113,\"snr\":3,\"success\":true}']\n"
     ]
    }
   ],
   "source": [
    "for i in range(len(aux2)):\n",
    "    print(aux2[i])"
   ]
  }
 ],
 "metadata": {
  "kernelspec": {
   "display_name": "Python 3",
   "language": "python",
   "name": "python3"
  },
  "language_info": {
   "codemirror_mode": {
    "name": "ipython",
    "version": 3
   },
   "file_extension": ".py",
   "mimetype": "text/x-python",
   "name": "python",
   "nbconvert_exporter": "python",
   "pygments_lexer": "ipython3",
   "version": "3.6.8"
  }
 },
 "nbformat": 4,
 "nbformat_minor": 2
}
